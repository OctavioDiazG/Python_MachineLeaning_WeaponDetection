{
  "nbformat": 4,
  "nbformat_minor": 0,
  "metadata": {
    "colab": {
      "provenance": [],
      "name": "WaponDetection.ipynb",
      "authorship_tag": "ABX9TyMui2h/2GMWXKQxy7QIRvba",
      "include_colab_link": true
    },
    "kernelspec": {
      "name": "python3",
      "display_name": "Python 3"
    },
    "language_info": {
      "name": "python"
    }
  },
  "cells": [
    {
      "cell_type": "markdown",
      "metadata": {
        "id": "view-in-github",
        "colab_type": "text"
      },
      "source": [
        "<a href=\"https://colab.research.google.com/github/OctavioDiazG/Python_MachineLeaning_WeaponDetection/blob/main/Win/WaponDetection.ipynb\" target=\"_parent\"><img src=\"https://colab.research.google.com/assets/colab-badge.svg\" alt=\"Open In Colab\"/></a>"
      ]
    },
    {
      "cell_type": "code",
      "execution_count": 1,
      "metadata": {
        "id": "alsvoHUB1hGu",
        "outputId": "5017a6f2-123b-4746-e1d9-1c69bc279e47",
        "colab": {
          "base_uri": "https://localhost:8080/"
        }
      },
      "outputs": [
        {
          "metadata": {
            "tags": null
          },
          "name": "stdout",
          "output_type": "stream",
          "text": [
            "Cloning into 'yolov5'...\n",
            "remote: Enumerating objects: 15990, done.\u001b[K\n",
            "remote: Counting objects: 100% (23/23), done.\u001b[K\n",
            "remote: Compressing objects: 100% (12/12), done.\u001b[K\n",
            "remote: Total 15990 (delta 15), reused 16 (delta 11), pack-reused 15967\u001b[K\n",
            "Receiving objects: 100% (15990/15990), 14.64 MiB | 17.74 MiB/s, done.\n",
            "Resolving deltas: 100% (10977/10977), done.\n"
          ]
        }
      ],
      "source": [
        "!git clone https://github.com/ultralytics/yolov5"
      ]
    },
    {
      "cell_type": "code",
      "source": [],
      "metadata": {
        "id": "VU4sQecs42NF"
      },
      "execution_count": null,
      "outputs": []
    }
  ]
}